{
 "cells": [
  {
   "cell_type": "markdown",
   "metadata": {},
   "source": [
    "#### str datatype\n",
    "\n",
    "===>>> Collection of characters with in single quote ( ' ) , double quote (\") , triple quote ( ''') ,double quote with triple times ( \"\"\")\n",
    "\n"
   ]
  },
  {
   "cell_type": "code",
   "execution_count": 1,
   "metadata": {},
   "outputs": [
    {
     "name": "stdout",
     "output_type": "stream",
     "text": [
      "<class 'str'>\n",
      "<class 'str'>\n",
      "<class 'str'>\n",
      "<class 'str'>\n"
     ]
    }
   ],
   "source": [
    "var = 'python'\n",
    "print(type(var))\n",
    "var = \"python\"\n",
    "print(type(var))\n",
    "var = '''python'''\n",
    "print(type(var))\n",
    "var = \"\"\"python\"\"\"\n",
    "print(type(var))"
   ]
  },
  {
   "cell_type": "code",
   "execution_count": 2,
   "metadata": {},
   "outputs": [
    {
     "name": "stdout",
     "output_type": "stream",
     "text": [
      "p\n",
      "y\n",
      "t\n",
      "h\n",
      "o\n",
      "n\n"
     ]
    }
   ],
   "source": [
    "# Access the characters from the str\n",
    "'''\n",
    "Indexing --->> one character   var_name[]\n",
    "Slicing --->>  more than the one character var_name[]\n",
    "Dicing  --->>  more than the one character var_name[]\n",
    "'''\n",
    "# indexing    var_name[Position] -->character\n",
    "############## Positive indexing \n",
    "var = \"python\"\n",
    "print(var[0]) # p\n",
    "print(var[1]) # y\n",
    "print(var[2]) # t\n",
    "print(var[3]) # h\n",
    "print(var[4]) # o\n",
    "print(var[5]) # n\n"
   ]
  },
  {
   "cell_type": "code",
   "execution_count": 3,
   "metadata": {},
   "outputs": [
    {
     "name": "stdout",
     "output_type": "stream",
     "text": [
      "n\n",
      "o\n",
      "h\n",
      "t\n",
      "y\n",
      "p\n"
     ]
    }
   ],
   "source": [
    "# indexing    var_name[Position] -->character\n",
    "############## Negative indexing \n",
    "var = \"python\"\n",
    "print(var[-1]) # n\n",
    "print(var[-2]) # o\n",
    "print(var[-3]) # h\n",
    "print(var[-4]) # t\n",
    "print(var[-5]) # y\n",
    "print(var[-6]) # p\n"
   ]
  },
  {
   "cell_type": "code",
   "execution_count": 8,
   "metadata": {},
   "outputs": [
    {
     "name": "stdout",
     "output_type": "stream",
     "text": [
      "on_p\n",
      "hon_pro\n",
      "python_pro\n",
      "hon_program\n"
     ]
    }
   ],
   "source": [
    "#  slicing  we can access the multiple chracters\n",
    "\n",
    "var = \"python_program\"\n",
    "print(var[4 : 8])\n",
    "print(var[3 :10])# 3 to 9\n",
    "print(var[ : 10])# 0 to 9\n",
    "print(var[3 :])"
   ]
  },
  {
   "cell_type": "code",
   "execution_count": 13,
   "metadata": {},
   "outputs": [
    {
     "name": "stdout",
     "output_type": "stream",
     "text": [
      "tnr\n",
      "hpr\n",
      "por\n",
      "ynom\n",
      "hon_pr\n"
     ]
    }
   ],
   "source": [
    "# dicing var[start :  stop : step]\n",
    "var = \"python_program\"\n",
    "print(var[2 : 10 : 3])\n",
    "print(var[3 : 12 : 4])\n",
    "print(var[:12:4]) # 0 ,4,8,\n",
    "print(var[1::4])# 1,5,9,13\n",
    "print(var[3:9:])# 3,4,5,6,7,8"
   ]
  },
  {
   "cell_type": "code",
   "execution_count": 1,
   "metadata": {},
   "outputs": [
    {
     "name": "stdout",
     "output_type": "stream",
     "text": [
      "python\n"
     ]
    },
    {
     "ename": "TypeError",
     "evalue": "'str' object does not support item assignment",
     "output_type": "error",
     "traceback": [
      "\u001b[1;31m---------------------------------------------------------------------------\u001b[0m",
      "\u001b[1;31mTypeError\u001b[0m                                 Traceback (most recent call last)",
      "\u001b[1;32m<ipython-input-1-0264d277c576>\u001b[0m in \u001b[0;36m<module>\u001b[1;34m\u001b[0m\n\u001b[0;32m      2\u001b[0m \u001b[0mvar\u001b[0m \u001b[1;33m=\u001b[0m \u001b[1;34m\"python\"\u001b[0m\u001b[1;33m\u001b[0m\u001b[1;33m\u001b[0m\u001b[0m\n\u001b[0;32m      3\u001b[0m \u001b[0mprint\u001b[0m\u001b[1;33m(\u001b[0m\u001b[0mvar\u001b[0m\u001b[1;33m)\u001b[0m\u001b[1;33m\u001b[0m\u001b[1;33m\u001b[0m\u001b[0m\n\u001b[1;32m----> 4\u001b[1;33m \u001b[0mvar\u001b[0m\u001b[1;33m[\u001b[0m\u001b[1;36m2\u001b[0m\u001b[1;33m]\u001b[0m \u001b[1;33m=\u001b[0m \u001b[1;34m'T'\u001b[0m\u001b[1;33m\u001b[0m\u001b[1;33m\u001b[0m\u001b[0m\n\u001b[0m\u001b[0;32m      5\u001b[0m \u001b[0mprint\u001b[0m\u001b[1;33m(\u001b[0m\u001b[0mvar\u001b[0m\u001b[1;33m)\u001b[0m\u001b[1;33m\u001b[0m\u001b[1;33m\u001b[0m\u001b[0m\n",
      "\u001b[1;31mTypeError\u001b[0m: 'str' object does not support item assignment"
     ]
    }
   ],
   "source": [
    "# str is immutable datatype ---> we can't modify the existing character\n",
    "var = \"python\"\n",
    "print(var)\n",
    "var[2] = 'T'\n",
    "print(var)"
   ]
  },
  {
   "cell_type": "code",
   "execution_count": 2,
   "metadata": {},
   "outputs": [
    {
     "name": "stdout",
     "output_type": "stream",
     "text": [
      "14\n",
      "y\n",
      "_\n"
     ]
    }
   ],
   "source": [
    "var = \"python_program\"\n",
    "print(len(var)) # It can return the no of characters in str\n",
    "print(max(var))\n",
    "print(min(var))"
   ]
  },
  {
   "cell_type": "code",
   "execution_count": 3,
   "metadata": {},
   "outputs": [
    {
     "name": "stdout",
     "output_type": "stream",
     "text": [
      "97\n",
      "98\n",
      "121\n",
      "122\n"
     ]
    }
   ],
   "source": [
    "print(ord('a'))\n",
    "print(ord('b'))\n",
    "print(ord('y'))\n",
    "print(ord('z'))\n"
   ]
  },
  {
   "cell_type": "code",
   "execution_count": 4,
   "metadata": {},
   "outputs": [
    {
     "name": "stdout",
     "output_type": "stream",
     "text": [
      "95\n",
      "32\n",
      "64\n",
      "65\n",
      "66\n",
      "89\n",
      "90\n"
     ]
    }
   ],
   "source": [
    "print(ord(\"_\"))\n",
    "print(ord(\" \"))\n",
    "print(ord(\"@\"))\n",
    "print(ord(\"A\"))# 65\n",
    "print(ord(\"B\"))\n",
    "print(ord(\"Y\"))# 89\n",
    "print(ord('Z'))# 90"
   ]
  },
  {
   "cell_type": "code",
   "execution_count": 5,
   "metadata": {},
   "outputs": [
    {
     "name": "stdout",
     "output_type": "stream",
     "text": [
      "Z\n",
      "a\n",
      "z\n",
      "0\n"
     ]
    }
   ],
   "source": [
    "# chr ( ascii --->> char)\n",
    "print(chr(90))\n",
    "print(chr(97))\n",
    "print(chr(122))\n",
    "print(chr(48))"
   ]
  },
  {
   "cell_type": "code",
   "execution_count": 6,
   "metadata": {},
   "outputs": [
    {
     "data": {
      "text/plain": [
       "'Sdghd ghgjhdgh hghghfh'"
      ]
     },
     "execution_count": 6,
     "metadata": {},
     "output_type": "execute_result"
    }
   ],
   "source": [
    "#str class  --->> pre defined method \n",
    "var = \"SDghd GHGjhdgh hghGHFH\"\n",
    "var.capitalize() # 1st character is upper "
   ]
  },
  {
   "cell_type": "code",
   "execution_count": 7,
   "metadata": {},
   "outputs": [
    {
     "data": {
      "text/plain": [
       "'SDGHD GHGJHDGH HGHGHFH'"
      ]
     },
     "execution_count": 7,
     "metadata": {},
     "output_type": "execute_result"
    }
   ],
   "source": [
    "#str class  --->> pre defined method \n",
    "var = \"SDghd GHGjhdgh hghGHFH\"\n",
    "var.upper() "
   ]
  },
  {
   "cell_type": "code",
   "execution_count": 8,
   "metadata": {},
   "outputs": [
    {
     "data": {
      "text/plain": [
       "'sdghd ghgjhdgh hghghfh'"
      ]
     },
     "execution_count": 8,
     "metadata": {},
     "output_type": "execute_result"
    }
   ],
   "source": [
    "#str class  --->> pre defined method \n",
    "var = \"SDghd GHGjhdgh hghGHFH\"\n",
    "var.lower()"
   ]
  },
  {
   "cell_type": "code",
   "execution_count": 9,
   "metadata": {},
   "outputs": [
    {
     "data": {
      "text/plain": [
       "'sdGHD ghgJHDGH HGHghfh'"
      ]
     },
     "execution_count": 9,
     "metadata": {},
     "output_type": "execute_result"
    }
   ],
   "source": [
    "#str class  --->> pre defined method \n",
    "var = \"SDghd GHGjhdgh hghGHFH\"\n",
    "var.swapcase()"
   ]
  },
  {
   "cell_type": "code",
   "execution_count": 10,
   "metadata": {},
   "outputs": [
    {
     "data": {
      "text/plain": [
       "'Sdghd Ghgjhdgh Hghghfh'"
      ]
     },
     "execution_count": 10,
     "metadata": {},
     "output_type": "execute_result"
    }
   ],
   "source": [
    "#str class  --->> pre defined method \n",
    "var = \"SDghd GHGjhdgh hghGHFH\"\n",
    "var.title() "
   ]
  },
  {
   "cell_type": "code",
   "execution_count": 11,
   "metadata": {},
   "outputs": [
    {
     "name": "stdout",
     "output_type": "stream",
     "text": [
      "jfjhghg jjhgf HJGjhdhfjkgf\n",
      "JfJhghg JJhgf HJGJhdhfJkgf\n",
      "jfjhghg jjhgf HJGjhdhfjkgf\n"
     ]
    }
   ],
   "source": [
    "var = \"jfjhghg jjhgf HJGjhdhfjkgf\"\n",
    "print(var)\n",
    "print(var.replace('j','J'))\n",
    "print(var)"
   ]
  },
  {
   "cell_type": "code",
   "execution_count": 12,
   "metadata": {},
   "outputs": [
    {
     "name": "stdout",
     "output_type": "stream",
     "text": [
      "0000python\n"
     ]
    }
   ],
   "source": [
    "var = \"python\"\n",
    "print(var.zfill(10))"
   ]
  },
  {
   "cell_type": "code",
   "execution_count": 13,
   "metadata": {},
   "outputs": [
    {
     "name": "stdout",
     "output_type": "stream",
     "text": [
      "python\n"
     ]
    }
   ],
   "source": [
    "var = \"python\"\n",
    "print(var.zfill(5))"
   ]
  },
  {
   "cell_type": "code",
   "execution_count": 14,
   "metadata": {},
   "outputs": [
    {
     "name": "stdout",
     "output_type": "stream",
     "text": [
      "python\n",
      "  python  \n",
      "python\n",
      "AApythonAA\n"
     ]
    }
   ],
   "source": [
    "var =\"python\"\n",
    "print(var)\n",
    "print(var.center(10))\n",
    "print(var)\n",
    "print(var.center(10,'A'))"
   ]
  },
  {
   "cell_type": "code",
   "execution_count": 15,
   "metadata": {},
   "outputs": [
    {
     "name": "stdout",
     "output_type": "stream",
     "text": [
      "4\n",
      "2\n",
      "0\n"
     ]
    }
   ],
   "source": [
    "var =\"python prograaaam\"\n",
    "print(var.count('a'))\n",
    "print(var.count('p'))\n",
    "print(var.count('Z'))"
   ]
  },
  {
   "cell_type": "code",
   "execution_count": 16,
   "metadata": {},
   "outputs": [
    {
     "name": "stdout",
     "output_type": "stream",
     "text": [
      "2\n"
     ]
    },
    {
     "ename": "ValueError",
     "evalue": "substring not found",
     "output_type": "error",
     "traceback": [
      "\u001b[1;31m---------------------------------------------------------------------------\u001b[0m",
      "\u001b[1;31mValueError\u001b[0m                                Traceback (most recent call last)",
      "\u001b[1;32m<ipython-input-16-cbb546d3c83b>\u001b[0m in \u001b[0;36m<module>\u001b[1;34m\u001b[0m\n\u001b[0;32m      1\u001b[0m \u001b[0mvar\u001b[0m \u001b[1;33m=\u001b[0m \u001b[1;34m\"python\"\u001b[0m\u001b[1;33m\u001b[0m\u001b[1;33m\u001b[0m\u001b[0m\n\u001b[0;32m      2\u001b[0m \u001b[0mprint\u001b[0m\u001b[1;33m(\u001b[0m\u001b[0mvar\u001b[0m\u001b[1;33m.\u001b[0m\u001b[0mindex\u001b[0m\u001b[1;33m(\u001b[0m\u001b[1;34m't'\u001b[0m\u001b[1;33m)\u001b[0m\u001b[1;33m)\u001b[0m\u001b[1;31m# 2\u001b[0m\u001b[1;33m\u001b[0m\u001b[1;33m\u001b[0m\u001b[0m\n\u001b[1;32m----> 3\u001b[1;33m \u001b[0mprint\u001b[0m\u001b[1;33m(\u001b[0m\u001b[0mvar\u001b[0m\u001b[1;33m.\u001b[0m\u001b[0mindex\u001b[0m\u001b[1;33m(\u001b[0m\u001b[1;34m'Z'\u001b[0m\u001b[1;33m)\u001b[0m\u001b[1;33m)\u001b[0m\u001b[1;31m#\u001b[0m\u001b[1;33m\u001b[0m\u001b[1;33m\u001b[0m\u001b[0m\n\u001b[0m",
      "\u001b[1;31mValueError\u001b[0m: substring not found"
     ]
    }
   ],
   "source": [
    "var = \"python\"\n",
    "print(var.index('t'))# 2\n",
    "print(var.index('Z'))#"
   ]
  },
  {
   "cell_type": "code",
   "execution_count": 17,
   "metadata": {},
   "outputs": [
    {
     "name": "stdout",
     "output_type": "stream",
     "text": [
      "True\n",
      "True\n",
      "True\n",
      "True\n",
      "True\n",
      "True\n",
      "True\n"
     ]
    }
   ],
   "source": [
    "a = \"456787654\"\n",
    "print(a.isdigit())\n",
    "a = \"SDFGHJHGFDS\"\n",
    "print(a.isupper())\n",
    "a = \"ytyfyfyf\"\n",
    "print(a.islower())\n",
    "a = \"Tjhgfkj Gkfhdj Gkjdjfh\"\n",
    "print(a.istitle())\n",
    "a = \"JHhgfdhfjh\"\n",
    "print(a.isalpha())\n",
    "a = \"jdkfhkjJKH867\"\n",
    "print(a.isalnum())\n",
    "a = \"        \"\n",
    "print(a.isspace())"
   ]
  },
  {
   "cell_type": "code",
   "execution_count": null,
   "metadata": {},
   "outputs": [],
   "source": []
  }
 ],
 "metadata": {
  "kernelspec": {
   "display_name": "Python 3",
   "language": "python",
   "name": "python3"
  },
  "language_info": {
   "codemirror_mode": {
    "name": "ipython",
    "version": 3
   },
   "file_extension": ".py",
   "mimetype": "text/x-python",
   "name": "python",
   "nbconvert_exporter": "python",
   "pygments_lexer": "ipython3",
   "version": "3.8.3"
  }
 },
 "nbformat": 4,
 "nbformat_minor": 4
}

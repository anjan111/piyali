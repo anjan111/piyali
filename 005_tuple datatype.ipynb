{
 "cells": [
  {
   "cell_type": "code",
   "execution_count": 1,
   "metadata": {},
   "outputs": [
    {
     "name": "stdout",
     "output_type": "stream",
     "text": [
      "()\n",
      "<class 'tuple'>\n",
      "2070073835584\n"
     ]
    }
   ],
   "source": [
    "# tuple  --> collection of the data elements with in ()\n",
    "var = () # empty tuple\n",
    "print(var)\n",
    "# type() ---> to know the datatype\n",
    "print(type(var))\n",
    "# id()------> to know the memory loc\n",
    "print(id(var))"
   ]
  },
  {
   "cell_type": "code",
   "execution_count": 2,
   "metadata": {},
   "outputs": [
    {
     "name": "stdout",
     "output_type": "stream",
     "text": [
      "(12, 2.2, (3+5j), True, None, 'soc', [1, 2, 3], (1, 2, 3))\n",
      "<class 'tuple'>\n",
      "2070147510672\n"
     ]
    }
   ],
   "source": [
    "# hetrogenious datatype -->> dissimilar datatype elements\n",
    "var = (12 , 2.2 ,3+5j , True ,None ,\"soc\",[1,2,3],(1,2,3))\n",
    "print(var)\n",
    "print(type(var))\n",
    "print(id(var))"
   ]
  },
  {
   "cell_type": "code",
   "execution_count": 5,
   "metadata": {},
   "outputs": [
    {
     "name": "stdout",
     "output_type": "stream",
     "text": [
      "++++ postive indexing ++++++++\n",
      "12\n",
      "90\n",
      "-34\n",
      "78\n",
      "------ negative indexing -----\n",
      "78\n",
      "-34\n",
      "90\n",
      "12\n"
     ]
    }
   ],
   "source": [
    "# access the data elements from tuple\n",
    "# indexing  --> single element\n",
    "# positive indexing   --->>  0 to len-1\n",
    "\n",
    "var = (12,90,-34,78)\n",
    "print(\"++++ postive indexing ++++++++\")\n",
    "print(var[0]) # 12\n",
    "print(var[1]) # 90\n",
    "print(var[2]) # 34\n",
    "print(var[3]) # 78\n",
    "# Negative indexing  ---->  -1  to  -len\n",
    "print(\"------ negative indexing -----\")\n",
    "print(var[-1]) # 78\n",
    "print(var[-2]) # 34\n",
    "print(var[-3]) # 90\n",
    "print(var[-4]) # 12"
   ]
  },
  {
   "cell_type": "code",
   "execution_count": 10,
   "metadata": {},
   "outputs": [
    {
     "name": "stdout",
     "output_type": "stream",
     "text": [
      "(16, 34, 23, 88)\n",
      "(1, 16, 34, 23, 88, 45, 67)\n",
      "(34, 23, 88, 45)\n",
      "(2, 9, 1, 16, 34, 23, 88, 45)\n",
      "(16, 34, 23, 88, 45, 67, 11)\n"
     ]
    }
   ],
   "source": [
    "# slicing --> we can access multiple continous indexinf elements\n",
    "var = (2 ,9,1, 16,34,23,88,45,67,11)\n",
    "\n",
    "print(var [  3 : 7 ])\n",
    "print(var [  2 : 9 ])\n",
    "print(var [  4 : 8 ])\n",
    "print(var [    : 8 ]) # 2 to 45\n",
    "print(var [  3 :   ]) # 16 to 11"
   ]
  },
  {
   "cell_type": "code",
   "execution_count": 15,
   "metadata": {},
   "outputs": [
    {
     "name": "stdout",
     "output_type": "stream",
     "text": [
      "(9, 16, 23, 45)\n",
      "(16, 88, 11)\n",
      "(16, 88, 11)\n",
      "(2, 1, 34, 88)\n",
      "(16, 34, 23, 88, 45)\n"
     ]
    }
   ],
   "source": [
    "# dicing  ---> multiple tuple elements based on step from start to stop\n",
    "# var[ start : stop  : step ]\n",
    "var = (2 ,9,1, 16,34,23,88,45,67,11)\n",
    "print(var[ 1  :  8  :  2  ])\n",
    "print(var[ 3  :  10 :  3])\n",
    "print(var[ 3  :     :  3]) # stop --> len of tuple\n",
    "print(var[    :   8 :  2]) # (2,1,34,88)\n",
    "print(var[ 3  :   8 :  ])#"
   ]
  },
  {
   "cell_type": "code",
   "execution_count": 16,
   "metadata": {},
   "outputs": [
    {
     "name": "stdout",
     "output_type": "stream",
     "text": [
      "(12, 56, 90)\n"
     ]
    },
    {
     "ename": "TypeError",
     "evalue": "'tuple' object does not support item assignment",
     "output_type": "error",
     "traceback": [
      "\u001b[1;31m---------------------------------------------------------------------------\u001b[0m",
      "\u001b[1;31mTypeError\u001b[0m                                 Traceback (most recent call last)",
      "\u001b[1;32m<ipython-input-16-6a64b156bd7d>\u001b[0m in \u001b[0;36m<module>\u001b[1;34m\u001b[0m\n\u001b[0;32m      3\u001b[0m \u001b[0mvar\u001b[0m \u001b[1;33m=\u001b[0m \u001b[1;33m(\u001b[0m\u001b[1;36m12\u001b[0m\u001b[1;33m,\u001b[0m\u001b[1;36m56\u001b[0m\u001b[1;33m,\u001b[0m\u001b[1;36m90\u001b[0m\u001b[1;33m)\u001b[0m\u001b[1;33m\u001b[0m\u001b[1;33m\u001b[0m\u001b[0m\n\u001b[0;32m      4\u001b[0m \u001b[0mprint\u001b[0m\u001b[1;33m(\u001b[0m\u001b[0mvar\u001b[0m\u001b[1;33m)\u001b[0m\u001b[1;33m\u001b[0m\u001b[1;33m\u001b[0m\u001b[0m\n\u001b[1;32m----> 5\u001b[1;33m \u001b[0mvar\u001b[0m\u001b[1;33m[\u001b[0m\u001b[1;36m1\u001b[0m\u001b[1;33m]\u001b[0m \u001b[1;33m=\u001b[0m \u001b[1;36m100\u001b[0m\u001b[1;33m\u001b[0m\u001b[1;33m\u001b[0m\u001b[0m\n\u001b[0m\u001b[0;32m      6\u001b[0m \u001b[0mprint\u001b[0m\u001b[1;33m(\u001b[0m\u001b[0mvar\u001b[0m\u001b[1;33m)\u001b[0m\u001b[1;33m\u001b[0m\u001b[1;33m\u001b[0m\u001b[0m\n",
      "\u001b[1;31mTypeError\u001b[0m: 'tuple' object does not support item assignment"
     ]
    }
   ],
   "source": [
    "# tuple is immutable --> we can't modify the exist the tuple elemts\n",
    "\n",
    "var = (12,56,90)\n",
    "print(var)\n",
    "var[1] = 100\n",
    "print(var)"
   ]
  },
  {
   "cell_type": "code",
   "execution_count": 17,
   "metadata": {},
   "outputs": [
    {
     "name": "stdout",
     "output_type": "stream",
     "text": [
      "4\n",
      "214\n",
      "90\n",
      "12\n"
     ]
    }
   ],
   "source": [
    "var = (12,89,23,90)\n",
    "print(len(var)) # 4\n",
    "print(sum(var)) # \n",
    "print(max(var)) # 90\n",
    "print(min(var)) #\n"
   ]
  }
 ],
 "metadata": {
  "kernelspec": {
   "display_name": "Python 3",
   "language": "python",
   "name": "python3"
  },
  "language_info": {
   "codemirror_mode": {
    "name": "ipython",
    "version": 3
   },
   "file_extension": ".py",
   "mimetype": "text/x-python",
   "name": "python",
   "nbconvert_exporter": "python",
   "pygments_lexer": "ipython3",
   "version": "3.8.3"
  }
 },
 "nbformat": 4,
 "nbformat_minor": 4
}

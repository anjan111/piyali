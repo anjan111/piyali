{
 "cells": [
  {
   "cell_type": "code",
   "execution_count": 1,
   "metadata": {},
   "outputs": [
    {
     "name": "stdout",
     "output_type": "stream",
     "text": [
      "[]\n",
      "<class 'list'>\n",
      "2217798844672\n"
     ]
    }
   ],
   "source": [
    "# list  --->>  []\n",
    "var  = []  # empty list\n",
    "print(var)\n",
    "print(type(var))\n",
    "print(id(var))"
   ]
  },
  {
   "cell_type": "code",
   "execution_count": 2,
   "metadata": {},
   "outputs": [
    {
     "name": "stdout",
     "output_type": "stream",
     "text": [
      "[12, 3.23, (4+4j), True, None, 'str', [12, 3], (1, 2), {1, 2}, {12: 34}]\n"
     ]
    }
   ],
   "source": [
    "# with in the [] --> we may hold all datatype elements\n",
    "# list is a hetrogenious datatype\n",
    "var = [12 , 3.23 ,4+4j, True ,None,\"str\",[12,3],(1,2),{1,2},{12:34}]\n",
    "print(var)"
   ]
  },
  {
   "cell_type": "code",
   "execution_count": 3,
   "metadata": {},
   "outputs": [
    {
     "name": "stdout",
     "output_type": "stream",
     "text": [
      "positive indexing   0 to len -1\n",
      "12\n",
      "89\n",
      "23\n",
      "negative indexing   -1 to - len\n",
      "23\n",
      "89\n",
      "12\n"
     ]
    }
   ],
   "source": [
    "# access the list elements\n",
    "'''\n",
    "---> indexing  --> [position] --> only one element\n",
    "---> slicing  --> [start : stop] --> multiple continuos from start to stop position\n",
    "---> dicing ----> [start : stop : step ] -> multiple periodical indexing postional elments\n",
    "\n",
    "'''\n",
    "print(\"positive indexing   0 to len -1\")\n",
    "var = [12,89,23]\n",
    "print(var[0])# 12\n",
    "print(var[1])# 89\n",
    "print(var[2])# 23\n",
    "print(\"negative indexing   -1 to - len\")\n",
    "print(var[-1]) # 23\n",
    "print(var[-2]) # 89\n",
    "print(var[-3]) # 12"
   ]
  },
  {
   "cell_type": "code",
   "execution_count": 7,
   "metadata": {},
   "outputs": [
    {
     "name": "stdout",
     "output_type": "stream",
     "text": [
      "[23, 78, 40, 89]\n",
      "[45, 90, 23, 78, 40, 89, 67]\n",
      "[12, 45, 90, 23, 78, 40, 89, 67]\n",
      "[78, 40, 89, 67, 34, 11]\n"
     ]
    }
   ],
   "source": [
    "#list slicing \n",
    "var = [12,45,90,23,78,40,89,67,34,11]\n",
    "print(var[3:7])\n",
    "print(var[1:8])\n",
    "print(var[ : 8]) # start --> 0\n",
    "print(var[4:])   # stop ---> len of list"
   ]
  },
  {
   "cell_type": "code",
   "execution_count": 10,
   "metadata": {},
   "outputs": [
    {
     "name": "stdout",
     "output_type": "stream",
     "text": [
      "[45, 78, 67]\n",
      "[45, 40, 11]\n",
      "[12, 78, 34]\n",
      "[45, 40, 11]\n",
      "[45, 90, 23, 78, 40]\n"
     ]
    }
   ],
   "source": [
    "# list dicing \n",
    "var = [12,45,90,23,78,40,89,67,34,11]\n",
    "print(var[ 1 :  8 : 3  ])\n",
    "print(var[1  :  10 : 4])\n",
    "print(var[   :  9  : 4 ]) # [12 , 78 ,34]\n",
    "print(var[1  :     : 4])  # [45 , 40 ,11]\n",
    "print(var[1  :  6  : ])   #"
   ]
  },
  {
   "cell_type": "code",
   "execution_count": 11,
   "metadata": {},
   "outputs": [
    {
     "name": "stdout",
     "output_type": "stream",
     "text": [
      "[12, 90, 23]\n",
      "[12, 100, 23]\n"
     ]
    }
   ],
   "source": [
    "#list  --> mutable\n",
    "var = [12,90,23]\n",
    "print(var)\n",
    "var[1] = 100\n",
    "print(var)"
   ]
  },
  {
   "cell_type": "code",
   "execution_count": 12,
   "metadata": {},
   "outputs": [
    {
     "name": "stdout",
     "output_type": "stream",
     "text": [
      "3\n",
      "89\n",
      "12\n",
      "135\n"
     ]
    }
   ],
   "source": [
    "var = [12,89,34]\n",
    "print(len(var))\n",
    "print(max(var))\n",
    "print(min(var))\n",
    "print(sum(var))\n"
   ]
  },
  {
   "cell_type": "code",
   "execution_count": 1,
   "metadata": {},
   "outputs": [
    {
     "name": "stdout",
     "output_type": "stream",
     "text": [
      "[]\n",
      "[10]\n",
      "[10, 20]\n",
      "[10, 20, 100]\n"
     ]
    }
   ],
   "source": [
    "# list is having some methods\n",
    "var = []\n",
    "print(var)\n",
    "# add single element to my existing list\n",
    "var.append(10)\n",
    "print(var)\n",
    "var.append(20)\n",
    "print(var)\n",
    "var.append(100)\n",
    "print(var)\n"
   ]
  },
  {
   "cell_type": "code",
   "execution_count": 2,
   "metadata": {},
   "outputs": [
    {
     "name": "stdout",
     "output_type": "stream",
     "text": [
      "[12, 34, 78]\n",
      "[56, 90, 123]\n",
      "[12, 34, 78, 56, 90, 123]\n",
      "[56, 90, 123]\n"
     ]
    }
   ],
   "source": [
    "a = [12,34,78]\n",
    "b = [56,90,123]\n",
    "print(a)\n",
    "print(b)\n",
    "a.extend(b)\n",
    "print(a)\n",
    "print(b)"
   ]
  },
  {
   "cell_type": "code",
   "execution_count": 3,
   "metadata": {},
   "outputs": [
    {
     "name": "stdout",
     "output_type": "stream",
     "text": [
      "[12, 90, 34]\n",
      "34\n",
      "[12, 90]\n",
      "90\n",
      "[12]\n",
      "12\n",
      "[]\n"
     ]
    }
   ],
   "source": [
    "a = [12,90,34]\n",
    "print(a)\n",
    "print(a.pop())\n",
    "print(a)\n",
    "print(a.pop())\n",
    "print(a)\n",
    "print(a.pop())\n",
    "print(a)"
   ]
  },
  {
   "cell_type": "code",
   "execution_count": 4,
   "metadata": {},
   "outputs": [
    {
     "name": "stdout",
     "output_type": "stream",
     "text": [
      "[12, 90, 34, 89, 23]\n",
      "34\n",
      "[12, 90, 89, 23]\n",
      "89\n",
      "[12, 90, 23]\n"
     ]
    }
   ],
   "source": [
    "var = [12,90,34,89,23]\n",
    "print(var)\n",
    "print(var.pop(2)) # 34\n",
    "print(var)\n",
    "print(var.pop(2)) # 89\n",
    "print(var)"
   ]
  },
  {
   "cell_type": "code",
   "execution_count": 6,
   "metadata": {},
   "outputs": [
    {
     "name": "stdout",
     "output_type": "stream",
     "text": [
      "[23, 90, 34, 78, 12, 100]\n",
      "[23, 90, 34, 12, 100]\n",
      "[23, 34, 12, 100]\n"
     ]
    },
    {
     "ename": "ValueError",
     "evalue": "list.remove(x): x not in list",
     "output_type": "error",
     "traceback": [
      "\u001b[1;31m---------------------------------------------------------------------------\u001b[0m",
      "\u001b[1;31mValueError\u001b[0m                                Traceback (most recent call last)",
      "\u001b[1;32m<ipython-input-6-03a5f676f43a>\u001b[0m in \u001b[0;36m<module>\u001b[1;34m\u001b[0m\n\u001b[0;32m      5\u001b[0m \u001b[0mvar\u001b[0m\u001b[1;33m.\u001b[0m\u001b[0mremove\u001b[0m\u001b[1;33m(\u001b[0m\u001b[1;36m90\u001b[0m\u001b[1;33m)\u001b[0m\u001b[1;33m\u001b[0m\u001b[1;33m\u001b[0m\u001b[0m\n\u001b[0;32m      6\u001b[0m \u001b[0mprint\u001b[0m\u001b[1;33m(\u001b[0m\u001b[0mvar\u001b[0m\u001b[1;33m)\u001b[0m\u001b[1;33m\u001b[0m\u001b[1;33m\u001b[0m\u001b[0m\n\u001b[1;32m----> 7\u001b[1;33m \u001b[0mvar\u001b[0m\u001b[1;33m.\u001b[0m\u001b[0mremove\u001b[0m\u001b[1;33m(\u001b[0m\u001b[1;36m1000\u001b[0m\u001b[1;33m)\u001b[0m\u001b[1;33m\u001b[0m\u001b[1;33m\u001b[0m\u001b[0m\n\u001b[0m",
      "\u001b[1;31mValueError\u001b[0m: list.remove(x): x not in list"
     ]
    }
   ],
   "source": [
    "var = [23,90,34,78,12,100]\n",
    "print(var)\n",
    "var.remove(78)\n",
    "print(var)\n",
    "var.remove(90)\n",
    "print(var)\n",
    "var.remove(1000)"
   ]
  },
  {
   "cell_type": "code",
   "execution_count": 7,
   "metadata": {},
   "outputs": [
    {
     "name": "stdout",
     "output_type": "stream",
     "text": [
      "2\n",
      "1\n"
     ]
    },
    {
     "ename": "ValueError",
     "evalue": "100 is not in list",
     "output_type": "error",
     "traceback": [
      "\u001b[1;31m---------------------------------------------------------------------------\u001b[0m",
      "\u001b[1;31mValueError\u001b[0m                                Traceback (most recent call last)",
      "\u001b[1;32m<ipython-input-7-7cc7bc8e013f>\u001b[0m in \u001b[0;36m<module>\u001b[1;34m\u001b[0m\n\u001b[0;32m      2\u001b[0m \u001b[0mprint\u001b[0m\u001b[1;33m(\u001b[0m\u001b[0mvar\u001b[0m\u001b[1;33m.\u001b[0m\u001b[0mindex\u001b[0m\u001b[1;33m(\u001b[0m\u001b[1;36m23\u001b[0m\u001b[1;33m)\u001b[0m\u001b[1;33m)\u001b[0m \u001b[1;31m# 2\u001b[0m\u001b[1;33m\u001b[0m\u001b[1;33m\u001b[0m\u001b[0m\n\u001b[0;32m      3\u001b[0m \u001b[0mprint\u001b[0m\u001b[1;33m(\u001b[0m\u001b[0mvar\u001b[0m\u001b[1;33m.\u001b[0m\u001b[0mindex\u001b[0m\u001b[1;33m(\u001b[0m\u001b[1;36m90\u001b[0m\u001b[1;33m)\u001b[0m\u001b[1;33m)\u001b[0m \u001b[1;31m# 1\u001b[0m\u001b[1;33m\u001b[0m\u001b[1;33m\u001b[0m\u001b[0m\n\u001b[1;32m----> 4\u001b[1;33m \u001b[0mprint\u001b[0m\u001b[1;33m(\u001b[0m\u001b[0mvar\u001b[0m\u001b[1;33m.\u001b[0m\u001b[0mindex\u001b[0m\u001b[1;33m(\u001b[0m\u001b[1;36m100\u001b[0m\u001b[1;33m)\u001b[0m\u001b[1;33m)\u001b[0m\u001b[1;31m# Index error\u001b[0m\u001b[1;33m\u001b[0m\u001b[1;33m\u001b[0m\u001b[0m\n\u001b[0m",
      "\u001b[1;31mValueError\u001b[0m: 100 is not in list"
     ]
    }
   ],
   "source": [
    "var = [45,90,23,56]\n",
    "print(var.index(23)) # 2\n",
    "print(var.index(90)) # 1\n",
    "print(var.index(100))# Value error"
   ]
  },
  {
   "cell_type": "code",
   "execution_count": 8,
   "metadata": {},
   "outputs": [
    {
     "name": "stdout",
     "output_type": "stream",
     "text": [
      "[90, 34, 2, 100, 23]\n",
      "[2, 23, 34, 90, 100]\n"
     ]
    }
   ],
   "source": [
    "var = [90,34,2,100,23]\n",
    "print(var)\n",
    "var.sort()\n",
    "print(var)"
   ]
  },
  {
   "cell_type": "code",
   "execution_count": 9,
   "metadata": {},
   "outputs": [
    {
     "name": "stdout",
     "output_type": "stream",
     "text": [
      "[90, 34, 2, 100, 23]\n",
      "[23, 100, 2, 34, 90]\n"
     ]
    }
   ],
   "source": [
    "var = [90,34,2,100,23]\n",
    "print(var)\n",
    "var.reverse()\n",
    "print(var)"
   ]
  },
  {
   "cell_type": "code",
   "execution_count": 10,
   "metadata": {},
   "outputs": [
    {
     "name": "stdout",
     "output_type": "stream",
     "text": [
      "[90, 34, 2, 100, 23]\n",
      "[2, 23, 34, 90, 100]\n",
      "[100, 90, 34, 23, 2]\n"
     ]
    }
   ],
   "source": [
    "var = [90,34,2,100,23]\n",
    "print(var)\n",
    "var.sort()\n",
    "print(var)\n",
    "var.reverse()\n",
    "print(var)"
   ]
  },
  {
   "cell_type": "code",
   "execution_count": 11,
   "metadata": {},
   "outputs": [
    {
     "name": "stdout",
     "output_type": "stream",
     "text": [
      "[12, 45, 90, 34]\n",
      "[12, 45, 100, 90, 34]\n"
     ]
    }
   ],
   "source": [
    "var = [12,45,90,34]\n",
    "print(var)\n",
    "var.insert(2,100)\n",
    "print(var)"
   ]
  },
  {
   "cell_type": "code",
   "execution_count": 12,
   "metadata": {},
   "outputs": [
    {
     "name": "stdout",
     "output_type": "stream",
     "text": [
      "[12, 90, 23, 45, 23, 45, 23]\n",
      "3\n"
     ]
    }
   ],
   "source": [
    "var = [12,90,23,45,23,45,23]\n",
    "print(var)\n",
    "print(var.count(23))\n"
   ]
  },
  {
   "cell_type": "code",
   "execution_count": 13,
   "metadata": {},
   "outputs": [
    {
     "name": "stdout",
     "output_type": "stream",
     "text": [
      "[12, 90, 12]\n",
      "[]\n"
     ]
    }
   ],
   "source": [
    "var = [12,90,12]\n",
    "print(var)\n",
    "var.clear()\n",
    "print(var)"
   ]
  },
  {
   "cell_type": "code",
   "execution_count": 14,
   "metadata": {},
   "outputs": [
    {
     "name": "stdout",
     "output_type": "stream",
     "text": [
      "[12, 90]\n",
      "[12, 90]\n",
      "3147703855040\n",
      "3147701681024\n"
     ]
    }
   ],
   "source": [
    "a = [12,90]\n",
    "print(a)\n",
    "b = a.copy()\n",
    "print(a)\n",
    "print(id(a))\n",
    "print(id(b))"
   ]
  },
  {
   "cell_type": "code",
   "execution_count": 15,
   "metadata": {},
   "outputs": [
    {
     "name": "stdout",
     "output_type": "stream",
     "text": [
      "[12, 90]\n",
      "[12, 90]\n",
      "3147701587584\n",
      "3147701587584\n"
     ]
    }
   ],
   "source": [
    "a = [12,90]\n",
    "print(a)\n",
    "b = a\n",
    "print(a)\n",
    "print(id(a))\n",
    "print(id(b))"
   ]
  },
  {
   "cell_type": "code",
   "execution_count": null,
   "metadata": {},
   "outputs": [],
   "source": []
  }
 ],
 "metadata": {
  "kernelspec": {
   "display_name": "Python 3",
   "language": "python",
   "name": "python3"
  },
  "language_info": {
   "codemirror_mode": {
    "name": "ipython",
    "version": 3
   },
   "file_extension": ".py",
   "mimetype": "text/x-python",
   "name": "python",
   "nbconvert_exporter": "python",
   "pygments_lexer": "ipython3",
   "version": "3.8.3"
  }
 },
 "nbformat": 4,
 "nbformat_minor": 4
}

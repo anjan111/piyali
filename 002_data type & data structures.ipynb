{
 "cells": [
  {
   "cell_type": "code",
   "execution_count": 2,
   "metadata": {},
   "outputs": [
    {
     "name": "stdout",
     "output_type": "stream",
     "text": [
      "<class 'int'>\n",
      "memory location :  2086580196432\n",
      "<class 'int'>\n",
      "memory location :  140708855297792\n",
      "<class 'int'>\n",
      "memory location :  2086580196272\n"
     ]
    }
   ],
   "source": [
    "#datatype\n",
    "# type() ---->>> to know the datatype of any variable\n",
    "# id() ------>>> to know the memory loc\n",
    "'''\n",
    "variables <-------  holding data\n",
    "we can specify the what type of data can holded by variables\n",
    "'''\n",
    "# There are 2 types\n",
    "'''\n",
    "1. Fundamental datatype\n",
    "=====>>> A single variable can hold single data element\n",
    "        1. int \n",
    "        2. float\n",
    "        3. complex\n",
    "        4. bool \n",
    "        5. None\n",
    "\n",
    "2. Sequencial Datatype\n",
    "====>>>A single variable can hold the multiple data elements\n",
    "        1. str\n",
    "        2. list\n",
    "        3. tuple\n",
    "        4. set\n",
    "        5. dict\n",
    "'''\n",
    "# int\n",
    "var = -123\n",
    "print(type(var))\n",
    "print(\"memory location : \",id(var))\n",
    "var = 0\n",
    "print(type(var))\n",
    "print(\"memory location : \",id(var))\n",
    "var = 567\n",
    "print(type(var))\n",
    "print(\"memory location : \",id(var))"
   ]
  },
  {
   "cell_type": "code",
   "execution_count": 3,
   "metadata": {},
   "outputs": [
    {
     "name": "stdout",
     "output_type": "stream",
     "text": [
      "<class 'float'>\n",
      "memory location :  2086580196336\n",
      "<class 'float'>\n",
      "memory location :  2086579629008\n",
      "<class 'float'>\n",
      "memory location :  2086580196368\n"
     ]
    }
   ],
   "source": [
    "# float\n",
    "var = -12.3\n",
    "print(type(var))\n",
    "print(\"memory location : \",id(var))\n",
    "var = 0.0\n",
    "print(type(var))\n",
    "print(\"memory location : \",id(var))\n",
    "var = 56.7\n",
    "print(type(var))\n",
    "print(\"memory location : \",id(var))"
   ]
  },
  {
   "cell_type": "code",
   "execution_count": 4,
   "metadata": {},
   "outputs": [
    {
     "name": "stdout",
     "output_type": "stream",
     "text": [
      "<class 'complex'>\n"
     ]
    }
   ],
   "source": [
    "# complex datatype --> real  +   img ==> x + yi => x +yj\n",
    "var = 12 + 34j\n",
    "print(type(var))\n"
   ]
  },
  {
   "cell_type": "code",
   "execution_count": 6,
   "metadata": {},
   "outputs": [
    {
     "name": "stdout",
     "output_type": "stream",
     "text": [
      "<class 'bool'>\n",
      "<class 'bool'>\n"
     ]
    }
   ],
   "source": [
    "# bool \n",
    "# True  , False\n",
    "var = True\n",
    "print(type(var))\n",
    "var = False\n",
    "print(type(var))"
   ]
  },
  {
   "cell_type": "code",
   "execution_count": 8,
   "metadata": {},
   "outputs": [
    {
     "name": "stdout",
     "output_type": "stream",
     "text": [
      "<class 'NoneType'>\n"
     ]
    }
   ],
   "source": [
    "# None type\n",
    "var = None\n",
    "print(type(var))"
   ]
  },
  {
   "cell_type": "code",
   "execution_count": 12,
   "metadata": {},
   "outputs": [
    {
     "name": "stdout",
     "output_type": "stream",
     "text": [
      "python\n",
      "<class 'str'>\n"
     ]
    }
   ],
   "source": [
    "# str -->> collection of characters with \"\"\n",
    "var = \"python\"\n",
    "print(var)\n",
    "print(type(var))"
   ]
  },
  {
   "cell_type": "code",
   "execution_count": 13,
   "metadata": {},
   "outputs": [
    {
     "name": "stdout",
     "output_type": "stream",
     "text": [
      "[12, 34.45, (4+5j), True]\n",
      "<class 'list'>\n"
     ]
    }
   ],
   "source": [
    "# list --> collection of elements with in []\n",
    "var = [12 ,34.45 ,4+5j , True]\n",
    "print(var)\n",
    "print(type(var))"
   ]
  },
  {
   "cell_type": "code",
   "execution_count": 14,
   "metadata": {},
   "outputs": [
    {
     "name": "stdout",
     "output_type": "stream",
     "text": [
      "(12, 34.45, (4+5j), True)\n",
      "<class 'tuple'>\n"
     ]
    }
   ],
   "source": [
    "# tuple --> collection of elements with in ()\n",
    "var = (12 ,34.45 ,4+5j , True)\n",
    "print(var)\n",
    "print(type(var))"
   ]
  },
  {
   "cell_type": "code",
   "execution_count": 17,
   "metadata": {},
   "outputs": [
    {
     "name": "stdout",
     "output_type": "stream",
     "text": [
      "{True, 34.45, (4+5j), 12}\n",
      "<class 'set'>\n"
     ]
    }
   ],
   "source": [
    "# set --> collection of elements with in {}\n",
    "var = {12 ,34.45 ,4+5j , True}\n",
    "print(var)\n",
    "print(type(var))"
   ]
  },
  {
   "cell_type": "code",
   "execution_count": 18,
   "metadata": {},
   "outputs": [
    {
     "name": "stdout",
     "output_type": "stream",
     "text": [
      "{'C34': 'Piyali', 'C45': 'Santhosh'}\n",
      "<class 'dict'>\n"
     ]
    }
   ],
   "source": [
    "# dict ---> collection of items with in {} -->> item --> key : value\n",
    "var = {\"C34\" : \"Piyali\" , \"C45\":\"Santhosh\"}\n",
    "print(var)\n",
    "print(type(var))"
   ]
  },
  {
   "cell_type": "code",
   "execution_count": null,
   "metadata": {},
   "outputs": [],
   "source": []
  }
 ],
 "metadata": {
  "kernelspec": {
   "display_name": "Python 3",
   "language": "python",
   "name": "python3"
  },
  "language_info": {
   "codemirror_mode": {
    "name": "ipython",
    "version": 3
   },
   "file_extension": ".py",
   "mimetype": "text/x-python",
   "name": "python",
   "nbconvert_exporter": "python",
   "pygments_lexer": "ipython3",
   "version": "3.8.3"
  }
 },
 "nbformat": 4,
 "nbformat_minor": 4
}
